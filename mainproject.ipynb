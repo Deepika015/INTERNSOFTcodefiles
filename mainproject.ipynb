{
 "cells": [
  {
   "cell_type": "code",
   "execution_count": 33,
   "metadata": {},
   "outputs": [],
   "source": [
    "#Importing Libraries\n",
    "import os \n",
    "import time\n",
    "import subprocess as sb\n",
    "import json"
   ]
  },
  {
   "cell_type": "code",
   "execution_count": 34,
   "metadata": {},
   "outputs": [],
   "source": [
    "import wolframalpha as wl\n",
    "import requests as re\n",
    "import webbrowser as wb\n",
    "import wikipedia as wk\n",
    "import datetime as dt"
   ]
  },
  {
   "cell_type": "code",
   "execution_count": 35,
   "metadata": {},
   "outputs": [],
   "source": [
    "import speech_recognition as sr\n",
    "import pyttsx3 as ptx\n"
   ]
  },
  {
   "cell_type": "code",
   "execution_count": 36,
   "metadata": {},
   "outputs": [
    {
     "name": "stdout",
     "output_type": "stream",
     "text": [
      "LOADING YOUR A.I PERSONAL ASSISTANT SIRI\n"
     ]
    }
   ],
   "source": [
    "print ('LOADING YOUR A.I PERSONAL ASSISTANT SIRI')"
   ]
  },
  {
   "cell_type": "code",
   "execution_count": 37,
   "metadata": {},
   "outputs": [],
   "source": [
    "engine = ptx.init('sapi5')\n",
    "voices = engine.getProperty('voices')\n",
    "engine.setProperty(\"voice\",'voices[0].id')"
   ]
  },
  {
   "cell_type": "code",
   "execution_count": 38,
   "metadata": {},
   "outputs": [],
   "source": [
    "def speak(text):\n",
    "    engine.say(text)\n",
    "    engine.runAndWait()"
   ]
  },
  {
   "cell_type": "code",
   "execution_count": 39,
   "metadata": {},
   "outputs": [],
   "source": [
    "def wishMe():\n",
    "    hour = dt.datetime.now().hour\n",
    "    if hour >= 0 and hour <= 12:\n",
    "        speak(\" Good Morning deepi, its \" + str(hour) + \" A M\" )\n",
    "        print(\" Good Morning deepi, its \" + str(hour) + \" A M\")\n",
    "    elif hour >= 12 and hour <=16:\n",
    "        speak(\"Good afternoon deepi, its good to hear you\")\n",
    "        print(\"Good afternoon deepi, its good to hear you\")\n",
    "    else:\n",
    "        speak(\"hello deepi, what a pleasant evening\")\n",
    "        print(\"hello deepi, what a pleasant evening\")\n",
    "        "
   ]
  },
  {
   "cell_type": "code",
   "execution_count": 40,
   "metadata": {},
   "outputs": [],
   "source": [
    "def takeCommand():\n",
    "    r = sr.Recognizer()\n",
    "    with sr.Microphone() as source:\n",
    "        print(\"listening.....\")\n",
    "        audio = r.listen(source)\n",
    "        \n",
    "        try:\n",
    "            statement = r.recognize_google(audio,language='en-in')\n",
    "            print(f\"user said:{statement}\\n\")\n",
    "            \n",
    "        except Exception as e:\n",
    "            speak(\"Sorry about that , can you come again\")\n",
    "            return \"None\"\n",
    "        return statement"
   ]
  },
  {
   "cell_type": "code",
   "execution_count": 41,
   "metadata": {},
   "outputs": [
    {
     "name": "stdout",
     "output_type": "stream",
     "text": [
      "hello deepi, what a pleasant evening\n"
     ]
    }
   ],
   "source": [
    "speak(\"i will be there to help you in just a moment deepika\")\n",
    "wishMe()"
   ]
  },
  {
   "cell_type": "code",
   "execution_count": 45,
   "metadata": {},
   "outputs": [
    {
     "name": "stdout",
     "output_type": "stream",
     "text": [
      "listening.....\n",
      "user said:who are you\n",
      "\n",
      "listening.....\n",
      "user said:who made you\n",
      "\n",
      "I was built by Ms.Deepika in the year 2020\n",
      "listening.....\n",
      "user said:goodbye\n",
      "\n",
      "see you later\n"
     ]
    }
   ],
   "source": [
    "if __name__ == '__main__':\n",
    "    while True:\n",
    "        speak(\"wassup deepika ?\")\n",
    "        statement = takeCommand().lower()\n",
    "        if statement == 0:\n",
    "            continue\n",
    "        if \"goodbye\" in statement or \"ok bye\" in statement or \"stop\" in statement:\n",
    "            speak(\"see you later\")\n",
    "            print(\"see you later\")\n",
    "            break\n",
    "            \n",
    "        if 'wikipedia' in statement:\n",
    "            speak(\"searching wikipedia....\")\n",
    "            statement = statement.replace(\"wikipedia\",\" \")\n",
    "            results = wk.summary(statement , sentences = 3)\n",
    "            speak(\"according to wikipedia.....\")\n",
    "            print(results)\n",
    "            speak(results)\n",
    "            \n",
    "        elif \"open youtube\" in statement:\n",
    "            speak(\"Opening Youtube for you\")\n",
    "            wb.open_new_tab(\"https://www.youtube.com/\")\n",
    "            time.sleep(5)\n",
    "            \n",
    "        elif \"open Google\" in statement:\n",
    "            speak(\"Opening Google\")\n",
    "            wb.open_new_tab(\"https://www.google.com/\")\n",
    "        \n",
    "        elif \"open Gmail\" in statement:\n",
    "            speak(\"Opening Gmail\")\n",
    "            wb.open_new_tab(\"https://www.gmail.com\")\n",
    "            time.sleep(5)\n",
    "            \n",
    "        elif \"open facebook\" in statement:\n",
    "            speak(\"Opening Facebook for you\")\n",
    "            wb.open_new_tab(\"https://www.facebook.com/\")\n",
    "            time.sleep(5)\n",
    "            \n",
    "        elif \"weather\" in statement:\n",
    "            api_key = \"ef607739a3c63f27184ff71bf7c2e2b3\"\n",
    "            base_url = \"https://api.openweathermap.org/data/2.5/weather?\"\n",
    "            speak(\"whats the city name\")\n",
    "            city_name = takeCommand()\n",
    "            complete_url = base_url + \"appid = \" + api_key + \"&q=\" + city_name\n",
    "            response = re.get(complete_url)\n",
    "            x = response.json()\n",
    "            if x[\"cod\"] != \"404\":\n",
    "                y = x[\"main\"]\n",
    "                current_temperature = y[\"temp\"]\n",
    "                current_humidity = y[\"humidity\"]\n",
    "                z = x[\"weather\"]\n",
    "                weather_description = z[0][\"descripiton\"]\n",
    "                speak(\"the temperature in kelvin units is \" + str(current_temperature) +\"\\n humidity in percentage is\" + str(current_humidity)+\"\\n weather description\" + str( weather_descreption))\n",
    "                print(\"the temperature in kelvin units is \" + str(current_temperature) +\"\\n humidity in percentage is\" + str(current_humidity)+\"\\n weather description\" + str( weather_descreption))\n",
    "            else:\n",
    "                speak(\"city not found\")\n",
    "                print(\"city not found\")\n",
    "                \n",
    "        elif \"time\" in statement:\n",
    "            strTime = dt.datetime.now().strftime(\"%H:%M:%S\")\n",
    "            speak(\"the time is\" + str(strTime))\n",
    "            print(\"the time is\" + str(strTime))\n",
    "            \n",
    "        elif \"who are you\" in statement or \"what can you do\" in statement:\n",
    "            speak(\"I am siri , A personal A I assistant bluit by Ms.Deepika Balraj\")\n",
    "            \n",
    "        elif \"who made you\" in statement or \"who created you\" in statement or \"who dsicovered you\" in statement:\n",
    "            speak(\"I was built by Ms.Deepika in the year 2020\")\n",
    "            print(\"I was built by Ms.Deepika in the year 2020\")\n",
    "            \n",
    "        elif \"open stack overflow\" in statement:\n",
    "            wb.open_new_tab(\"https://stackoverflow.com/\")\n",
    "            time.sleep(5)\n",
    "            \n",
    "        elif \"news\" in statement:\n",
    "            news = wb.open_new_tab(\"https://timesofindia.indiatimes.com/home/headlines\")\n",
    "            speak(\"todays headlines from times of india\")\n",
    "            time.sleep(7)\n",
    "        \n",
    "        elif \"search\" in statement:\n",
    "            statement = statement.replace(\"search\",\" \")\n",
    "            wb.open_new_tab(\"statement\")\n",
    "            time.sleep(5)\n",
    "            \n",
    "        elif \"ask\" in statement:\n",
    "            speak(\"I can answer to computauional and geographical questions too ,just try me!! what do you want to ask\")\n",
    "            question = takeCommand()\n",
    "            app_id=\"R2K75H-7ELALHR35X\"\n",
    "            client = wl.Client('R2K75H-7ELALHR35X')\n",
    "            res = client.query(question)\n",
    "            answer = next(res.results).text\n",
    "            speak(answer)\n",
    "            print(answer)\n",
    "            \n",
    "        elif \"log off\" in statement or \"sign out\" in statement or \"shut down\" in statement:\n",
    "            speak(\"ok , Your PC will shut down in 10 seconds\")\n",
    "            sb.call(['shutdown',\"\\1\"])\n",
    "            \n",
    "time.sleep(5)\n",
    "            \n",
    "            "
   ]
  },
  {
   "cell_type": "code",
   "execution_count": null,
   "metadata": {},
   "outputs": [],
   "source": []
  }
 ],
 "metadata": {
  "kernelspec": {
   "display_name": "Python 3",
   "language": "python",
   "name": "python3"
  },
  "language_info": {
   "codemirror_mode": {
    "name": "ipython",
    "version": 3
   },
   "file_extension": ".py",
   "mimetype": "text/x-python",
   "name": "python",
   "nbconvert_exporter": "python",
   "pygments_lexer": "ipython3",
   "version": "3.7.4"
  }
 },
 "nbformat": 4,
 "nbformat_minor": 2
}
